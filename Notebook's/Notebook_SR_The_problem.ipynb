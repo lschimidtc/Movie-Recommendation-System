{
  "nbformat": 4,
  "nbformat_minor": 0,
  "metadata": {
    "colab": {
      "name": "Notebook SR: The problem.ipynb",
      "provenance": []
    },
    "kernelspec": {
      "name": "python3",
      "display_name": "Python 3"
    },
    "language_info": {
      "name": "python"
    }
  },
  "cells": [
    {
      "cell_type": "markdown",
      "source": [
        "### First step: The problem\n",
        "\n",
        "Describing the problem and showing the technologies used."
      ],
      "metadata": {
        "id": "cJXDJhxFZYlq"
      }
    },
    {
      "cell_type": "markdown",
      "source": [
        "**Film Recommendation System**\n",
        "* Recommend movies to users\n",
        "* Large amount of data\n",
        "  * Exploratory Data Analysis (Analysis, Visualization, Insights)\n",
        "  * Recommendation System (Model)\n",
        "  * Data Source: APIs, DataBases, .CSV & .XLSX\n",
        "\n",
        "* Technologies used:\n",
        "  * Python\n",
        "    * Pandas\n",
        "    * tmdbv3api \n",
        "    * json\n",
        "    * requests\n",
        "    * Matplotlib\n",
        "    * Seaborn\n",
        "    * Numpy\n",
        "    * Streamlit\n",
        "  * Google Colab \n",
        "  * VSCode\n",
        "  * Heroku/Streamlit Cloud \n",
        "  * Google Sheets & Excel\n"
      ],
      "metadata": {
        "id": "pKLv5y2VZZy5"
      }
    }
  ]
}