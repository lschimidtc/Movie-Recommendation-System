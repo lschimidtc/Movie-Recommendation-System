{
  "nbformat": 4,
  "nbformat_minor": 0,
  "metadata": {
    "colab": {
      "name": "Notebook_SR_Full_project.ipynb",
      "provenance": [],
      "collapsed_sections": []
    },
    "kernelspec": {
      "name": "python3",
      "display_name": "Python 3"
    },
    "language_info": {
      "name": "python"
    }
  },
  "cells": [
    {
      "cell_type": "markdown",
      "metadata": {
        "id": "9pnpLjrkGC1-"
      },
      "source": [
        "### First step: The problem\n"
      ]
    },
    {
      "cell_type": "markdown",
      "metadata": {
        "id": "-3NgBq9vJ2hX"
      },
      "source": [
        "### Second step: Data Collection"
      ]
    },
    {
      "cell_type": "markdown",
      "source": [
        "### Third step: Exploratory Data Analysis\n"
      ],
      "metadata": {
        "id": "TT095wtpCTOc"
      }
    },
    {
      "cell_type": "markdown",
      "source": [
        "### Fourth step: Implementation of the recommender system (same .ipynb as the \"Third step: Exploratory Data Analysis\""
      ],
      "metadata": {
        "id": "YE-_hEMuSwIT"
      }
    }
  ]
}